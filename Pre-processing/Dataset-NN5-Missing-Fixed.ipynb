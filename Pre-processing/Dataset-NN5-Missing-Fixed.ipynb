{
 "cells": [
  {
   "cell_type": "code",
   "execution_count": 1,
   "id": "1550a977",
   "metadata": {
    "_cell_guid": "b1076dfc-b9ad-4769-8c92-a6c4dae69d19",
    "_uuid": "8f2839f25d086af736a60e9eeb907d3b93b6e0e5",
    "execution": {
     "iopub.execute_input": "2024-01-01T20:28:08.162788Z",
     "iopub.status.busy": "2024-01-01T20:28:08.161946Z",
     "iopub.status.idle": "2024-01-01T20:28:21.074439Z",
     "shell.execute_reply": "2024-01-01T20:28:21.072636Z"
    },
    "papermill": {
     "duration": 12.921403,
     "end_time": "2024-01-01T20:28:21.077553",
     "exception": false,
     "start_time": "2024-01-01T20:28:08.156150",
     "status": "completed"
    },
    "tags": []
   },
   "outputs": [
    {
     "name": "stdout",
     "output_type": "stream",
     "text": [
      "Requirement already satisfied: tensorflow-addons in /opt/conda/lib/python3.10/site-packages (0.21.0)\r\n",
      "Requirement already satisfied: packaging in /opt/conda/lib/python3.10/site-packages (from tensorflow-addons) (21.3)\r\n",
      "Requirement already satisfied: typeguard<3.0.0,>=2.7 in /opt/conda/lib/python3.10/site-packages (from tensorflow-addons) (2.13.3)\r\n",
      "Requirement already satisfied: pyparsing!=3.0.5,>=2.0.2 in /opt/conda/lib/python3.10/site-packages (from packaging->tensorflow-addons) (3.0.9)\r\n"
     ]
    }
   ],
   "source": [
    "! pip install tensorflow-addons"
   ]
  },
  {
   "cell_type": "code",
   "execution_count": 2,
   "id": "7351077a",
   "metadata": {
    "execution": {
     "iopub.execute_input": "2024-01-01T20:28:21.087312Z",
     "iopub.status.busy": "2024-01-01T20:28:21.086882Z",
     "iopub.status.idle": "2024-01-01T20:28:32.864706Z",
     "shell.execute_reply": "2024-01-01T20:28:32.863399Z"
    },
    "papermill": {
     "duration": 11.78581,
     "end_time": "2024-01-01T20:28:32.867489",
     "exception": false,
     "start_time": "2024-01-01T20:28:21.081679",
     "status": "completed"
    },
    "tags": []
   },
   "outputs": [
    {
     "name": "stdout",
     "output_type": "stream",
     "text": [
      "Collecting tslearn\r\n",
      "  Downloading tslearn-0.6.3-py3-none-any.whl (374 kB)\r\n",
      "\u001b[2K     \u001b[90m━━━━━━━━━━━━━━━━━━━━━━━━━━━━━━━━━━━━━━\u001b[0m \u001b[32m374.4/374.4 kB\u001b[0m \u001b[31m13.8 MB/s\u001b[0m eta \u001b[36m0:00:00\u001b[0m\r\n",
      "\u001b[?25hRequirement already satisfied: numpy in /opt/conda/lib/python3.10/site-packages (from tslearn) (1.23.5)\r\n",
      "Requirement already satisfied: scipy in /opt/conda/lib/python3.10/site-packages (from tslearn) (1.11.2)\r\n",
      "Requirement already satisfied: scikit-learn in /opt/conda/lib/python3.10/site-packages (from tslearn) (1.2.2)\r\n",
      "Requirement already satisfied: numba in /opt/conda/lib/python3.10/site-packages (from tslearn) (0.57.1)\r\n",
      "Requirement already satisfied: joblib in /opt/conda/lib/python3.10/site-packages (from tslearn) (1.3.2)\r\n",
      "Requirement already satisfied: llvmlite<0.41,>=0.40.0dev0 in /opt/conda/lib/python3.10/site-packages (from numba->tslearn) (0.40.1)\r\n",
      "Requirement already satisfied: threadpoolctl>=2.0.0 in /opt/conda/lib/python3.10/site-packages (from scikit-learn->tslearn) (3.1.0)\r\n",
      "Installing collected packages: tslearn\r\n",
      "Successfully installed tslearn-0.6.3\r\n"
     ]
    }
   ],
   "source": [
    "! pip install tslearn"
   ]
  },
  {
   "cell_type": "code",
   "execution_count": 3,
   "id": "201cd3c8",
   "metadata": {
    "execution": {
     "iopub.execute_input": "2024-01-01T20:28:32.878215Z",
     "iopub.status.busy": "2024-01-01T20:28:32.877763Z",
     "iopub.status.idle": "2024-01-01T20:28:48.419938Z",
     "shell.execute_reply": "2024-01-01T20:28:48.418899Z"
    },
    "papermill": {
     "duration": 15.550871,
     "end_time": "2024-01-01T20:28:48.422635",
     "exception": false,
     "start_time": "2024-01-01T20:28:32.871764",
     "status": "completed"
    },
    "tags": []
   },
   "outputs": [
    {
     "name": "stderr",
     "output_type": "stream",
     "text": [
      "/opt/conda/lib/python3.10/site-packages/tensorflow_addons/utils/tfa_eol_msg.py:23: UserWarning: \n",
      "\n",
      "TensorFlow Addons (TFA) has ended development and introduction of new features.\n",
      "TFA has entered a minimal maintenance and release mode until a planned end of life in May 2024.\n",
      "Please modify downstream libraries to take dependencies from other repositories in our TensorFlow community (e.g. Keras, Keras-CV, and Keras-NLP). \n",
      "\n",
      "For more information see: https://github.com/tensorflow/addons/issues/2807 \n",
      "\n",
      "  warnings.warn(\n"
     ]
    }
   ],
   "source": [
    "import os\n",
    "os.environ['TF_CPP_MIN_LOG_LEVEL'] = '3'\n",
    "import tensorflow as tf\n",
    "tf.config.run_functions_eagerly(True)\n",
    "tf.data.experimental.enable_debug_mode()\n",
    "import numpy as np\n",
    "import pandas as pd\n",
    "from tensorflow import keras\n",
    "from tensorflow.keras import layers\n",
    "from sklearn.metrics import mean_absolute_error\n",
    "from keras.models import Sequential\n",
    "from keras.layers import LSTM\n",
    "from keras.layers import Dense\n",
    "from keras.layers import RepeatVector\n",
    "from keras.layers import TimeDistributed\n",
    "import tensorflow_addons as tfa\n",
    "from math import pi, ceil\n",
    "\n",
    "import numpy as np\n",
    "import tensorflow as tf\n",
    "from tensorflow.keras.layers import Input, Conv1D, MaxPooling1D, Flatten\n",
    "from tensorflow.keras.models import Model\n",
    "from tslearn.preprocessing import TimeSeriesScalerMeanVariance"
   ]
  },
  {
   "cell_type": "code",
   "execution_count": 4,
   "id": "5a1f23a6",
   "metadata": {
    "execution": {
     "iopub.execute_input": "2024-01-01T20:28:48.433518Z",
     "iopub.status.busy": "2024-01-01T20:28:48.432478Z",
     "iopub.status.idle": "2024-01-01T20:28:48.438408Z",
     "shell.execute_reply": "2024-01-01T20:28:48.437189Z"
    },
    "papermill": {
     "duration": 0.013894,
     "end_time": "2024-01-01T20:28:48.440885",
     "exception": false,
     "start_time": "2024-01-01T20:28:48.426991",
     "status": "completed"
    },
    "tags": []
   },
   "outputs": [],
   "source": [
    "ndim=20"
   ]
  },
  {
   "cell_type": "code",
   "execution_count": 5,
   "id": "b3a5ceb9",
   "metadata": {
    "execution": {
     "iopub.execute_input": "2024-01-01T20:28:48.451286Z",
     "iopub.status.busy": "2024-01-01T20:28:48.450880Z",
     "iopub.status.idle": "2024-01-01T20:28:48.461370Z",
     "shell.execute_reply": "2024-01-01T20:28:48.460327Z"
    },
    "papermill": {
     "duration": 0.018495,
     "end_time": "2024-01-01T20:28:48.463743",
     "exception": false,
     "start_time": "2024-01-01T20:28:48.445248",
     "status": "completed"
    },
    "tags": []
   },
   "outputs": [],
   "source": [
    "class AEBase(keras.Model):\n",
    "    def __init__(self, **kwargs):\n",
    "        super(AEBase, self).__init__(**kwargs)\n",
    "        self.encoder = self.construct_encoder()\n",
    "        self.decoder = self.construct_decoder()\n",
    "        self.total_loss_tracker = keras.metrics.Mean(name=\"total_loss\")\n",
    "        self.reconstruction_loss_tracker = keras.metrics.Mean(\n",
    "            name=\"reconstruction_loss\"\n",
    "        )\n",
    "        self.kl_loss_tracker = keras.metrics.Mean(name=\"kl_loss\")\n",
    "\n",
    "    @property\n",
    "    def metrics(self):\n",
    "        return [\n",
    "            self.total_loss_tracker,\n",
    "            self.reconstruction_loss_tracker,\n",
    "        ]\n",
    "\n",
    "    def train_step(self, data):\n",
    "        with tf.GradientTape() as tape:\n",
    "            z = self.encoder(data)\n",
    "            reconstruction = self.decoder(z)\n",
    "            reconstruction_loss = tf.reduce_mean(\n",
    "                tf.reduce_sum(\n",
    "                    keras.losses.mean_squared_error(data, reconstruction), axis=(0, 1)\n",
    "                )\n",
    "            )\n",
    "        grads = tape.gradient(reconstruction_loss, self.trainable_weights)\n",
    "        self.optimizer.apply_gradients(zip(grads, self.trainable_weights))\n",
    "        self.total_loss_tracker.update_state(reconstruction_loss)\n",
    "        self.reconstruction_loss_tracker.update_state(reconstruction_loss)\n",
    "        return {\n",
    "            \"loss\": self.total_loss_tracker.result(),\n",
    "            \"reconstruction_loss\": self.reconstruction_loss_tracker.result(),\n",
    "        }"
   ]
  },
  {
   "cell_type": "code",
   "execution_count": 6,
   "id": "ad9ef849",
   "metadata": {
    "execution": {
     "iopub.execute_input": "2024-01-01T20:28:48.473836Z",
     "iopub.status.busy": "2024-01-01T20:28:48.473455Z",
     "iopub.status.idle": "2024-01-01T20:28:48.484070Z",
     "shell.execute_reply": "2024-01-01T20:28:48.482887Z"
    },
    "papermill": {
     "duration": 0.018245,
     "end_time": "2024-01-01T20:28:48.486314",
     "exception": false,
     "start_time": "2024-01-01T20:28:48.468069",
     "status": "completed"
    },
    "tags": []
   },
   "outputs": [],
   "source": [
    "class LSTMAE(AEBase):\n",
    "    def __init__(self, latent_dim=12, encoder_hiddens=[256, 128, 64], decoder_hiddens=[64, 128, 256], series_len=None):\n",
    "        self.latent_dim = latent_dim\n",
    "        self.encoder_hiddens = encoder_hiddens\n",
    "        self.decoder_hiddens = decoder_hiddens\n",
    "        self.series_len = series_len\n",
    "        super(LSTMAE, self).__init__()\n",
    "\n",
    "    def construct_encoder(self):\n",
    "        encoder_inputs = keras.Input((None,self.series_len))\n",
    "        #masked_seq = keras.layers.Masking(mask_value=0.0)(encoder_inputs)  # Mask any time step with value 0.0\n",
    "        x = keras.layers.LSTM(self.encoder_hiddens[0], return_sequences=True)(encoder_inputs)\n",
    "        for i in range(1, len(self.encoder_hiddens)-1):\n",
    "            x = keras.layers.LSTM(self.encoder_hiddens[i], return_sequences=True)(x)\n",
    "        x = keras.layers.LSTM(self.encoder_hiddens[-1])(x)\n",
    "        x = layers.Dense(self.latent_dim)(x)\n",
    "        encoder = keras.Model(encoder_inputs,  x, name=\"encoder\")\n",
    "        return encoder\n",
    "\n",
    "    def construct_decoder(self):\n",
    "        latent_inputs = keras.Input(shape=(self.latent_dim,))\n",
    "        x = keras.layers.RepeatVector(1)(latent_inputs)\n",
    "        # stacking LSTM layers\n",
    "        for h in self.decoder_hiddens:\n",
    "            x = keras.layers.LSTM(h, return_sequences=True)(x)\n",
    "\n",
    "        decoder_outputs = keras.layers.TimeDistributed(keras.layers.Dense(self.series_len))(x)\n",
    "        decoder = keras.Model(latent_inputs, decoder_outputs, name=\"decoder\")\n",
    "        return decoder"
   ]
  },
  {
   "cell_type": "code",
   "execution_count": 7,
   "id": "53199d2b",
   "metadata": {
    "execution": {
     "iopub.execute_input": "2024-01-01T20:28:48.497565Z",
     "iopub.status.busy": "2024-01-01T20:28:48.495780Z",
     "iopub.status.idle": "2024-01-01T20:28:48.621543Z",
     "shell.execute_reply": "2024-01-01T20:28:48.620303Z"
    },
    "papermill": {
     "duration": 0.133833,
     "end_time": "2024-01-01T20:28:48.624274",
     "exception": false,
     "start_time": "2024-01-01T20:28:48.490441",
     "status": "completed"
    },
    "tags": []
   },
   "outputs": [
    {
     "data": {
      "text/html": [
       "<div>\n",
       "<style scoped>\n",
       "    .dataframe tbody tr th:only-of-type {\n",
       "        vertical-align: middle;\n",
       "    }\n",
       "\n",
       "    .dataframe tbody tr th {\n",
       "        vertical-align: top;\n",
       "    }\n",
       "\n",
       "    .dataframe thead th {\n",
       "        text-align: right;\n",
       "    }\n",
       "</style>\n",
       "<table border=\"1\" class=\"dataframe\">\n",
       "  <thead>\n",
       "    <tr style=\"text-align: right;\">\n",
       "      <th></th>\n",
       "      <th>0</th>\n",
       "      <th>1</th>\n",
       "      <th>2</th>\n",
       "      <th>3</th>\n",
       "      <th>4</th>\n",
       "      <th>5</th>\n",
       "      <th>6</th>\n",
       "      <th>7</th>\n",
       "      <th>8</th>\n",
       "      <th>9</th>\n",
       "      <th>...</th>\n",
       "      <th>781</th>\n",
       "      <th>782</th>\n",
       "      <th>783</th>\n",
       "      <th>784</th>\n",
       "      <th>785</th>\n",
       "      <th>786</th>\n",
       "      <th>787</th>\n",
       "      <th>788</th>\n",
       "      <th>789</th>\n",
       "      <th>790</th>\n",
       "    </tr>\n",
       "  </thead>\n",
       "  <tbody>\n",
       "    <tr>\n",
       "      <th>0</th>\n",
       "      <td>13.407029</td>\n",
       "      <td>14.725057</td>\n",
       "      <td>20.564059</td>\n",
       "      <td>34.708050</td>\n",
       "      <td>26.629819</td>\n",
       "      <td>16.609977</td>\n",
       "      <td>15.320295</td>\n",
       "      <td>11.607143</td>\n",
       "      <td>19.883787</td>\n",
       "      <td>23.767007</td>\n",
       "      <td>...</td>\n",
       "      <td>50.141723</td>\n",
       "      <td>33.701814</td>\n",
       "      <td>28.656463</td>\n",
       "      <td>26.417234</td>\n",
       "      <td>27.253401</td>\n",
       "      <td>44.373583</td>\n",
       "      <td>65.206916</td>\n",
       "      <td>49.744898</td>\n",
       "      <td>34.481293</td>\n",
       "      <td>32.667234</td>\n",
       "    </tr>\n",
       "    <tr>\n",
       "      <th>1</th>\n",
       "      <td>11.550454</td>\n",
       "      <td>13.591270</td>\n",
       "      <td>15.036848</td>\n",
       "      <td>21.570295</td>\n",
       "      <td>19.444444</td>\n",
       "      <td>0.000000</td>\n",
       "      <td>9.722222</td>\n",
       "      <td>12.244898</td>\n",
       "      <td>15.504535</td>\n",
       "      <td>18.934240</td>\n",
       "      <td>...</td>\n",
       "      <td>34.665533</td>\n",
       "      <td>13.988095</td>\n",
       "      <td>13.874717</td>\n",
       "      <td>16.326531</td>\n",
       "      <td>17.488662</td>\n",
       "      <td>20.663265</td>\n",
       "      <td>27.097506</td>\n",
       "      <td>32.171202</td>\n",
       "      <td>13.676304</td>\n",
       "      <td>16.369048</td>\n",
       "    </tr>\n",
       "    <tr>\n",
       "      <th>2</th>\n",
       "      <td>5.640590</td>\n",
       "      <td>14.399093</td>\n",
       "      <td>24.418934</td>\n",
       "      <td>28.784014</td>\n",
       "      <td>20.620748</td>\n",
       "      <td>13.803855</td>\n",
       "      <td>11.536281</td>\n",
       "      <td>10.742630</td>\n",
       "      <td>14.824263</td>\n",
       "      <td>25.212585</td>\n",
       "      <td>...</td>\n",
       "      <td>38.364512</td>\n",
       "      <td>17.928005</td>\n",
       "      <td>18.041383</td>\n",
       "      <td>16.978458</td>\n",
       "      <td>22.293084</td>\n",
       "      <td>36.522109</td>\n",
       "      <td>42.786281</td>\n",
       "      <td>39.271542</td>\n",
       "      <td>17.446145</td>\n",
       "      <td>17.148526</td>\n",
       "    </tr>\n",
       "    <tr>\n",
       "      <th>3</th>\n",
       "      <td>13.180272</td>\n",
       "      <td>8.446712</td>\n",
       "      <td>19.515306</td>\n",
       "      <td>28.883220</td>\n",
       "      <td>19.472789</td>\n",
       "      <td>0.000000</td>\n",
       "      <td>7.355442</td>\n",
       "      <td>10.827664</td>\n",
       "      <td>15.617914</td>\n",
       "      <td>21.159297</td>\n",
       "      <td>...</td>\n",
       "      <td>31.420068</td>\n",
       "      <td>17.276077</td>\n",
       "      <td>15.674603</td>\n",
       "      <td>12.471655</td>\n",
       "      <td>17.928005</td>\n",
       "      <td>25.028345</td>\n",
       "      <td>45.308957</td>\n",
       "      <td>32.242063</td>\n",
       "      <td>15.943878</td>\n",
       "      <td>16.638322</td>\n",
       "    </tr>\n",
       "    <tr>\n",
       "      <th>4</th>\n",
       "      <td>9.778912</td>\n",
       "      <td>10.813492</td>\n",
       "      <td>21.612812</td>\n",
       "      <td>38.520408</td>\n",
       "      <td>24.744898</td>\n",
       "      <td>12.329932</td>\n",
       "      <td>12.996032</td>\n",
       "      <td>11.040249</td>\n",
       "      <td>7.950680</td>\n",
       "      <td>19.515306</td>\n",
       "      <td>...</td>\n",
       "      <td>33.758503</td>\n",
       "      <td>18.990930</td>\n",
       "      <td>16.865079</td>\n",
       "      <td>16.000567</td>\n",
       "      <td>15.079365</td>\n",
       "      <td>20.833333</td>\n",
       "      <td>40.646259</td>\n",
       "      <td>33.304989</td>\n",
       "      <td>16.666667</td>\n",
       "      <td>14.101474</td>\n",
       "    </tr>\n",
       "  </tbody>\n",
       "</table>\n",
       "<p>5 rows × 791 columns</p>\n",
       "</div>"
      ],
      "text/plain": [
       "         0          1          2          3          4          5    \\\n",
       "0  13.407029  14.725057  20.564059  34.708050  26.629819  16.609977   \n",
       "1  11.550454  13.591270  15.036848  21.570295  19.444444   0.000000   \n",
       "2   5.640590  14.399093  24.418934  28.784014  20.620748  13.803855   \n",
       "3  13.180272   8.446712  19.515306  28.883220  19.472789   0.000000   \n",
       "4   9.778912  10.813492  21.612812  38.520408  24.744898  12.329932   \n",
       "\n",
       "         6          7          8          9    ...        781        782  \\\n",
       "0  15.320295  11.607143  19.883787  23.767007  ...  50.141723  33.701814   \n",
       "1   9.722222  12.244898  15.504535  18.934240  ...  34.665533  13.988095   \n",
       "2  11.536281  10.742630  14.824263  25.212585  ...  38.364512  17.928005   \n",
       "3   7.355442  10.827664  15.617914  21.159297  ...  31.420068  17.276077   \n",
       "4  12.996032  11.040249   7.950680  19.515306  ...  33.758503  18.990930   \n",
       "\n",
       "         783        784        785        786        787        788  \\\n",
       "0  28.656463  26.417234  27.253401  44.373583  65.206916  49.744898   \n",
       "1  13.874717  16.326531  17.488662  20.663265  27.097506  32.171202   \n",
       "2  18.041383  16.978458  22.293084  36.522109  42.786281  39.271542   \n",
       "3  15.674603  12.471655  17.928005  25.028345  45.308957  32.242063   \n",
       "4  16.865079  16.000567  15.079365  20.833333  40.646259  33.304989   \n",
       "\n",
       "         789        790  \n",
       "0  34.481293  32.667234  \n",
       "1  13.676304  16.369048  \n",
       "2  17.446145  17.148526  \n",
       "3  15.943878  16.638322  \n",
       "4  16.666667  14.101474  \n",
       "\n",
       "[5 rows x 791 columns]"
      ]
     },
     "execution_count": 7,
     "metadata": {},
     "output_type": "execute_result"
    }
   ],
   "source": [
    "nn5 = pd.read_csv(\"/kaggle/input/nn5-dataset/nn51.csv\", header=None)\n",
    "nn5.head()"
   ]
  },
  {
   "cell_type": "code",
   "execution_count": 8,
   "id": "fba6bcb5",
   "metadata": {
    "execution": {
     "iopub.execute_input": "2024-01-01T20:28:48.636056Z",
     "iopub.status.busy": "2024-01-01T20:28:48.634946Z",
     "iopub.status.idle": "2024-01-01T20:28:48.645146Z",
     "shell.execute_reply": "2024-01-01T20:28:48.644197Z"
    },
    "papermill": {
     "duration": 0.018561,
     "end_time": "2024-01-01T20:28:48.647546",
     "exception": false,
     "start_time": "2024-01-01T20:28:48.628985",
     "status": "completed"
    },
    "tags": []
   },
   "outputs": [],
   "source": [
    "from datetime import datetime, timedelta\n",
    "start_date = datetime(1996, 3, 18)\n",
    "\n",
    "date_range = [start_date + timedelta(days=i) for i in range(nn5.shape[1])]\n",
    "\n",
    "# Convert the date range to days of the week\n",
    "days_of_week = [date.strftime('%A') for date in date_range]\n",
    "nn5.columns = days_of_week"
   ]
  },
  {
   "cell_type": "code",
   "execution_count": 9,
   "id": "7c968dae",
   "metadata": {
    "execution": {
     "iopub.execute_input": "2024-01-01T20:28:48.658474Z",
     "iopub.status.busy": "2024-01-01T20:28:48.658080Z",
     "iopub.status.idle": "2024-01-01T20:30:44.368112Z",
     "shell.execute_reply": "2024-01-01T20:30:44.367029Z"
    },
    "papermill": {
     "duration": 115.723566,
     "end_time": "2024-01-01T20:30:44.375696",
     "exception": false,
     "start_time": "2024-01-01T20:28:48.652130",
     "status": "completed"
    },
    "tags": []
   },
   "outputs": [
    {
     "data": {
      "text/plain": [
       "0      None\n",
       "1      None\n",
       "2      None\n",
       "3      None\n",
       "4      None\n",
       "       ... \n",
       "106    None\n",
       "107    None\n",
       "108    None\n",
       "109    None\n",
       "110    None\n",
       "Length: 111, dtype: object"
      ]
     },
     "execution_count": 9,
     "metadata": {},
     "output_type": "execute_result"
    }
   ],
   "source": [
    "import pandas as pd\n",
    "import numpy as np\n",
    "\n",
    "# Assuming df is your DataFrame with columns as days of the week\n",
    "\n",
    "# Function to replace zeros with the median of non-zero values for each day of the week\n",
    "def replace_zeros_with_median(series):\n",
    "    # Iterate over unique days of the week\n",
    "    for day in nn5.columns:\n",
    "        # Extract non-zero values for the specific day\n",
    "        non_zero_values = series[series.index == day].replace(0, np.nan).dropna()\n",
    "        \n",
    "        # Calculate the median of non-zero values\n",
    "        median_value = non_zero_values.median()\n",
    "        \n",
    "        # Replace zeros with the median for the specific day\n",
    "        series.loc[series.index == day] = series.loc[series.index == day].replace(0, median_value)\n",
    "\n",
    "# Apply the function to each row of the DataFrame\n",
    "nn5.apply(replace_zeros_with_median, axis=1)\n",
    "\n",
    "# Now, df has zeros replaced with the median of non-zero values for each day of the week in each series"
   ]
  },
  {
   "cell_type": "code",
   "execution_count": 10,
   "id": "e578b018",
   "metadata": {
    "execution": {
     "iopub.execute_input": "2024-01-01T20:30:44.386997Z",
     "iopub.status.busy": "2024-01-01T20:30:44.386603Z",
     "iopub.status.idle": "2024-01-01T20:30:44.508653Z",
     "shell.execute_reply": "2024-01-01T20:30:44.507716Z"
    },
    "papermill": {
     "duration": 0.130923,
     "end_time": "2024-01-01T20:30:44.511385",
     "exception": false,
     "start_time": "2024-01-01T20:30:44.380462",
     "status": "completed"
    },
    "tags": []
   },
   "outputs": [],
   "source": [
    "nn5.to_csv(\"nn5.csv\", header=None, index=False)"
   ]
  },
  {
   "cell_type": "code",
   "execution_count": null,
   "id": "36ed15ee",
   "metadata": {
    "papermill": {
     "duration": 0.004692,
     "end_time": "2024-01-01T20:30:44.520934",
     "exception": false,
     "start_time": "2024-01-01T20:30:44.516242",
     "status": "completed"
    },
    "tags": []
   },
   "outputs": [],
   "source": []
  }
 ],
 "metadata": {
  "kaggle": {
   "accelerator": "none",
   "dataSources": [
    {
     "datasetId": 3743351,
     "sourceId": 6479400,
     "sourceType": "datasetVersion"
    },
    {
     "datasetId": 3792584,
     "sourceId": 6564428,
     "sourceType": "datasetVersion"
    },
    {
     "datasetId": 3863893,
     "sourceId": 6704564,
     "sourceType": "datasetVersion"
    }
   ],
   "dockerImageVersionId": 30558,
   "isGpuEnabled": false,
   "isInternetEnabled": true,
   "language": "python",
   "sourceType": "notebook"
  },
  "kernelspec": {
   "display_name": "Python 3",
   "language": "python",
   "name": "python3"
  },
  "language_info": {
   "codemirror_mode": {
    "name": "ipython",
    "version": 3
   },
   "file_extension": ".py",
   "mimetype": "text/x-python",
   "name": "python",
   "nbconvert_exporter": "python",
   "pygments_lexer": "ipython3",
   "version": "3.10.12"
  },
  "papermill": {
   "default_parameters": {},
   "duration": 163.004934,
   "end_time": "2024-01-01T20:30:47.211443",
   "environment_variables": {},
   "exception": null,
   "input_path": "__notebook__.ipynb",
   "output_path": "__notebook__.ipynb",
   "parameters": {},
   "start_time": "2024-01-01T20:28:04.206509",
   "version": "2.4.0"
  }
 },
 "nbformat": 4,
 "nbformat_minor": 5
}
